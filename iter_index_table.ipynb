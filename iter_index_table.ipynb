{
 "cells": [
  {
   "cell_type": "code",
   "metadata": {
    "ExecuteTime": {
     "end_time": "2025-02-21T13:10:51.827446Z",
     "start_time": "2025-02-21T13:10:51.639925Z"
    }
   },
   "source": [
    "\n",
    "import os\n",
    "from time import sleep\n",
    "\n",
    "import polars as pl\n",
    "import requests\n",
    "from tqdm import tqdm\n"
   ],
   "outputs": [],
   "execution_count": 9
  },
  {
   "cell_type": "code",
   "metadata": {
    "ExecuteTime": {
     "end_time": "2025-02-21T11:29:46.351385Z",
     "start_time": "2025-02-21T11:29:46.348765Z"
    }
   },
   "source": [
    "cc_data = \"https://data.commoncrawl.org/\"\n"
   ],
   "outputs": [],
   "execution_count": 2
  },
  {
   "cell_type": "code",
   "metadata": {
    "ExecuteTime": {
     "end_time": "2025-02-21T11:29:49.594076Z",
     "start_time": "2025-02-21T11:29:49.589854Z"
    }
   },
   "source": [
    "with open('cc-index-table.paths', 'r') as file:\n",
    "    index_table_paths = file.read().splitlines()\n",
    "index_lst = [index for index in index_table_paths]\n",
    "# index_lst = index_lst[600:]\n",
    "# index_lst = index_lst[:300]\n",
    "# index_lst = index_lst[600:]"
   ],
   "outputs": [],
   "execution_count": 3
  },
  {
   "cell_type": "code",
   "metadata": {
    "ExecuteTime": {
     "end_time": "2025-02-21T13:10:02.414062Z",
     "start_time": "2025-02-21T13:09:35.640811Z"
    }
   },
   "source": [
    "test_file = cc_data + index_lst[0]\n",
    "print(test_file)\n",
    "test_index_gz = requests.get(test_file, stream=True)\n",
    "test_file_name = 'data/iter_index_table_test'\n",
    "with open(test_file_name, 'wb') as kk:\n",
    "    kk.write(test_index_gz.content)\n",
    "# test_index_gz.text[:100]"
   ],
   "outputs": [
    {
     "name": "stdout",
     "output_type": "stream",
     "text": [
      "https://data.commoncrawl.org/cc-index/table/cc-main/warc/crawl=CC-MAIN-2025-05/subset=crawldiagnostics/part-00000-88b30a59-3c73-48ba-a167-077611bfd245.c000.gz.parquet\n"
     ]
    }
   ],
   "execution_count": 7
  },
  {
   "metadata": {
    "ExecuteTime": {
     "end_time": "2025-02-21T13:11:19.071755Z",
     "start_time": "2025-02-21T13:11:17.166426Z"
    }
   },
   "cell_type": "code",
   "source": [
    "test_table = pl.read_parquet(test_file_name).select(['url_host_tld', 'fetch_status', 'warc_filename', 'url', 'url_path',\n",
    "                                                     'url_host_registered_domain'])\n",
    "test_table.head()"
   ],
   "outputs": [
    {
     "data": {
      "text/plain": [
       "shape: (5, 6)\n",
       "┌──────────────┬──────────────┬──────────────────┬──────────────────┬────────────┬─────────────────┐\n",
       "│ url_host_tld ┆ fetch_status ┆ warc_filename    ┆ url              ┆ url_path   ┆ url_host_regist │\n",
       "│ ---          ┆ ---          ┆ ---              ┆ ---              ┆ ---        ┆ ered_domain     │\n",
       "│ str          ┆ i16          ┆ str              ┆ str              ┆ str        ┆ ---             │\n",
       "│              ┆              ┆                  ┆                  ┆            ┆ str             │\n",
       "╞══════════════╪══════════════╪══════════════════╪══════════════════╪════════════╪═════════════════╡\n",
       "│ ru           ┆ 304          ┆ crawl-data/CC-MA ┆ https://ya5111.r ┆ /2474.html ┆ ya5111.ru       │\n",
       "│              ┆              ┆ IN-2025-05/seg…  ┆ u/2474.html      ┆            ┆                 │\n",
       "│ ru           ┆ 304          ┆ crawl-data/CC-MA ┆ https://ya5111.r ┆ /3874.html ┆ ya5111.ru       │\n",
       "│              ┆              ┆ IN-2025-05/seg…  ┆ u/3874.html      ┆            ┆                 │\n",
       "│ ru           ┆ 304          ┆ crawl-data/CC-MA ┆ https://ya5111.r ┆ /5114.html ┆ ya5111.ru       │\n",
       "│              ┆              ┆ IN-2025-05/seg…  ┆ u/5114.html      ┆            ┆                 │\n",
       "│ ru           ┆ 304          ┆ crawl-data/CC-MA ┆ https://ya5111.r ┆ /5135.html ┆ ya5111.ru       │\n",
       "│              ┆              ┆ IN-2025-05/seg…  ┆ u/5135.html      ┆            ┆                 │\n",
       "│ ru           ┆ 304          ┆ crawl-data/CC-MA ┆ https://ya5111.r ┆ /5140.html ┆ ya5111.ru       │\n",
       "│              ┆              ┆ IN-2025-05/seg…  ┆ u/5140.html      ┆            ┆                 │\n",
       "└──────────────┴──────────────┴──────────────────┴──────────────────┴────────────┴─────────────────┘"
      ],
      "text/html": [
       "<div><style>\n",
       ".dataframe > thead > tr,\n",
       ".dataframe > tbody > tr {\n",
       "  text-align: right;\n",
       "  white-space: pre-wrap;\n",
       "}\n",
       "</style>\n",
       "<small>shape: (5, 6)</small><table border=\"1\" class=\"dataframe\"><thead><tr><th>url_host_tld</th><th>fetch_status</th><th>warc_filename</th><th>url</th><th>url_path</th><th>url_host_registered_domain</th></tr><tr><td>str</td><td>i16</td><td>str</td><td>str</td><td>str</td><td>str</td></tr></thead><tbody><tr><td>&quot;ru&quot;</td><td>304</td><td>&quot;crawl-data/CC-MAIN-2025-05/seg…</td><td>&quot;https://ya5111.ru/2474.html&quot;</td><td>&quot;/2474.html&quot;</td><td>&quot;ya5111.ru&quot;</td></tr><tr><td>&quot;ru&quot;</td><td>304</td><td>&quot;crawl-data/CC-MAIN-2025-05/seg…</td><td>&quot;https://ya5111.ru/3874.html&quot;</td><td>&quot;/3874.html&quot;</td><td>&quot;ya5111.ru&quot;</td></tr><tr><td>&quot;ru&quot;</td><td>304</td><td>&quot;crawl-data/CC-MAIN-2025-05/seg…</td><td>&quot;https://ya5111.ru/5114.html&quot;</td><td>&quot;/5114.html&quot;</td><td>&quot;ya5111.ru&quot;</td></tr><tr><td>&quot;ru&quot;</td><td>304</td><td>&quot;crawl-data/CC-MAIN-2025-05/seg…</td><td>&quot;https://ya5111.ru/5135.html&quot;</td><td>&quot;/5135.html&quot;</td><td>&quot;ya5111.ru&quot;</td></tr><tr><td>&quot;ru&quot;</td><td>304</td><td>&quot;crawl-data/CC-MAIN-2025-05/seg…</td><td>&quot;https://ya5111.ru/5140.html&quot;</td><td>&quot;/5140.html&quot;</td><td>&quot;ya5111.ru&quot;</td></tr></tbody></table></div>"
      ]
     },
     "execution_count": 12,
     "metadata": {},
     "output_type": "execute_result"
    }
   ],
   "execution_count": 12
  },
  {
   "cell_type": "code",
   "execution_count": 5,
   "metadata": {},
   "outputs": [
    {
     "name": "stdout",
     "output_type": "stream",
     "text": [
      "https://data.commoncrawl.org/cc-index/table/cc-main/warc/crawl=CC-MAIN-2022-33/subset=warc/part-00001-d466b69e-be2b-4525-ac34-1b10d57329da.c000.gz.parquet\n"
     ]
    }
   ],
   "source": "print(cc_data + index_lst[1])"
  },
  {
   "metadata": {
    "ExecuteTime": {
     "end_time": "2025-02-21T13:57:00.755098Z",
     "start_time": "2025-02-21T13:57:00.747584Z"
    }
   },
   "cell_type": "code",
   "outputs": [],
   "execution_count": 38,
   "source": "progress = list()\n"
  },
  {
   "metadata": {
    "ExecuteTime": {
     "end_time": "2025-02-21T14:05:36.967991Z",
     "start_time": "2025-02-21T14:01:25.032028Z"
    }
   },
   "cell_type": "code",
   "outputs": [
    {
     "name": "stderr",
     "output_type": "stream",
     "text": [
      "part-00002-88b30a59-3c73-48ba-a167-077611bfd245.c000.gz.parquet:  20%|██        | 2/10 [01:00<03:33, 26.71s/it]"
     ]
    },
    {
     "name": "stdout",
     "output_type": "stream",
     "text": [
      "com found in part-00001-88b30a59-3c73-48ba-a167-077611bfd245.c000.gz.parquet\n"
     ]
    },
    {
     "name": "stderr",
     "output_type": "stream",
     "text": [
      "part-00004-88b30a59-3c73-48ba-a167-077611bfd245.c000.gz.parquet:  40%|████      | 4/10 [01:43<02:19, 23.23s/it]"
     ]
    },
    {
     "name": "stdout",
     "output_type": "stream",
     "text": [
      "com found in part-00003-88b30a59-3c73-48ba-a167-077611bfd245.c000.gz.parquet\n"
     ]
    },
    {
     "name": "stderr",
     "output_type": "stream",
     "text": [
      "part-00009-88b30a59-3c73-48ba-a167-077611bfd245.c000.gz.parquet:  90%|█████████ | 9/10 [03:48<00:25, 25.36s/it]"
     ]
    },
    {
     "name": "stdout",
     "output_type": "stream",
     "text": [
      "com found in part-00008-88b30a59-3c73-48ba-a167-077611bfd245.c000.gz.parquet\n"
     ]
    },
    {
     "name": "stderr",
     "output_type": "stream",
     "text": [
      "part-00009-88b30a59-3c73-48ba-a167-077611bfd245.c000.gz.parquet: 100%|██████████| 10/10 [04:11<00:00, 25.19s/it]\n"
     ]
    }
   ],
   "execution_count": 41,
   "source": [
    "headers = {\n",
    "    \"User-Agent\": \"Mozilla/5.0 (Windows NT 10.0; Win64; x64) AppleWebKit/537.36 (KHTML, like Gecko) Chrome/103.0.5060.134 Safari/537.36 Edg/103.0.1264.77\"\n",
    "}\n",
    "domain='com'\n",
    "for index in (pbar := tqdm(index_lst[:10])): #printing which file is currently processed\n",
    "    if index in progress: # so it won't start from the beginning of the list, if an error occurred, saving time\n",
    "        continue\n",
    "\n",
    "    URL = cc_data + index\n",
    "    file_name = index.split('/')[-1]\n",
    "    pbar.set_description(file_name)\n",
    "    # sleep(0.5)\n",
    "\n",
    "    index_gz = requests.get(URL, stream=True, headers=headers\n",
    "                            #verify=False,\n",
    "                            )\n",
    "\n",
    "    # print(index_gz)\n",
    "    # print(URL)\n",
    "    # print(index)\n",
    "    sleep(1.5)\n",
    "    with open(f'data/{file_name}', 'wb') as ff:\n",
    "        ff.write(index_gz.content)\n",
    "    ff.close()\n",
    "    sleep(1)\n",
    "\n",
    "    table = pl.read_parquet(f'data/{file_name}').select(\n",
    "        ['url_host_tld', 'fetch_status', 'warc_filename', 'url', 'url_path',\n",
    "         'url_host_registered_domain']).filter(\n",
    "        (pl.col('url_host_tld') == domain) &\n",
    "         (pl.col('fetch_status') != 404)\n",
    "    )\n",
    "    # print(table.shape[0])\n",
    "    # print(table.head())\n",
    "\n",
    "    if table.shape[0] > 1: # table has at least 1 row\n",
    "        #table.to_csv(f'{file_name}.csv', index=False)\n",
    "\n",
    "        print(f'{domain} found in {file_name}')\n",
    "        continue #leave the downloaded .parquet file on disk fo further use\n",
    "\n",
    "\n",
    "    progress.append(index)\n",
    "    sleep(1)\n",
    "    os.remove(f'data/{file_name}')\n"
   ]
  },
  {
   "metadata": {
    "ExecuteTime": {
     "end_time": "2025-02-21T14:05:37.409364Z",
     "start_time": "2025-02-21T14:05:37.079427Z"
    }
   },
   "cell_type": "code",
   "source": [
    "table = pl.read_parquet('data/part-00001-88b30a59-3c73-48ba-a167-077611bfd245.c000.gz.parquet')\n",
    "table.shape[0]"
   ],
   "outputs": [
    {
     "data": {
      "text/plain": [
       "761188"
      ]
     },
     "execution_count": 42,
     "metadata": {},
     "output_type": "execute_result"
    }
   ],
   "execution_count": 42
  },
  {
   "metadata": {
    "ExecuteTime": {
     "end_time": "2025-02-21T14:05:37.431593Z",
     "start_time": "2025-02-21T14:05:37.419137Z"
    }
   },
   "cell_type": "code",
   "source": [
    "table.head(25).select(\n",
    "    ['url_host_tld', 'fetch_status', 'warc_filename', 'url', 'url_path',\n",
    "     'url_host_registered_domain'])"
   ],
   "outputs": [
    {
     "data": {
      "text/plain": [
       "shape: (25, 6)\n",
       "┌──────────────┬──────────────┬─────────────────┬────────────────┬────────────────┬────────────────┐\n",
       "│ url_host_tld ┆ fetch_status ┆ warc_filename   ┆ url            ┆ url_path       ┆ url_host_regis │\n",
       "│ ---          ┆ ---          ┆ ---             ┆ ---            ┆ ---            ┆ tered_domain   │\n",
       "│ str          ┆ i16          ┆ str             ┆ str            ┆ str            ┆ ---            │\n",
       "│              ┆              ┆                 ┆                ┆                ┆ str            │\n",
       "╞══════════════╪══════════════╪═════════════════╪════════════════╪════════════════╪════════════════╡\n",
       "│ com          ┆ 301          ┆ crawl-data/CC-M ┆ http://cgallan ┆ /2008/09/ever- ┆ blogspot.com   │\n",
       "│              ┆              ┆ AIN-2025-05/seg ┆ .blogspot.com/ ┆ catch-yourself ┆                │\n",
       "│              ┆              ┆ …               ┆ 20…            ┆ -s…            ┆                │\n",
       "│ com          ┆ 301          ┆ crawl-data/CC-M ┆ http://cgallan ┆ /2016/06/unfin ┆ blogspot.com   │\n",
       "│              ┆              ┆ AIN-2025-05/seg ┆ .blogspot.com/ ┆ ished-tales-an ┆                │\n",
       "│              ┆              ┆ …               ┆ 20…            ┆ d-…            ┆                │\n",
       "│ com          ┆ 301          ┆ crawl-data/CC-M ┆ http://cgallan ┆ /2017/02/an-ev ┆ blogspot.com   │\n",
       "│              ┆              ┆ AIN-2025-05/seg ┆ .blogspot.com/ ┆ en-better-way- ┆                │\n",
       "│              ┆              ┆ …               ┆ 20…            ┆ to…            ┆                │\n",
       "│ com          ┆ 404          ┆ crawl-data/CC-M ┆ https://cgalla ┆ /2017/02/an-ev ┆ blogspot.com   │\n",
       "│              ┆              ┆ AIN-2025-05/seg ┆ n.blogspot.com ┆ en-better-way- ┆                │\n",
       "│              ┆              ┆ …               ┆ /2…            ┆ to…            ┆                │\n",
       "│ com          ┆ 404          ┆ crawl-data/CC-M ┆ https://cgindi ┆ /              ┆ blogspot.com   │\n",
       "│              ┆              ┆ AIN-2025-05/seg ┆ a.blogspot.com ┆                ┆                │\n",
       "│              ┆              ┆ …               ┆ /              ┆                ┆                │\n",
       "│ …            ┆ …            ┆ …               ┆ …              ┆ …              ┆ …              │\n",
       "│ com          ┆ 404          ┆ crawl-data/CC-M ┆ https://cgtcec ┆ /              ┆ blogspot.com   │\n",
       "│              ┆              ┆ AIN-2025-05/seg ┆ rops.blogspot. ┆                ┆                │\n",
       "│              ┆              ┆ …               ┆ co…            ┆                ┆                │\n",
       "│ com          ┆ 404          ┆ crawl-data/CC-M ┆ https://cgulbl ┆ /2024/09/113-w ┆ blogspot.com   │\n",
       "│              ┆              ┆ AIN-2025-05/seg ┆ ogger.blogspot ┆ elcome-to-data ┆                │\n",
       "│              ┆              ┆ …               ┆ .c…            ┆ ba…            ┆                │\n",
       "│ com          ┆ 404          ┆ crawl-data/CC-M ┆ https://cgulbl ┆ /2024/09/ace20 ┆ blogspot.com   │\n",
       "│              ┆              ┆ AIN-2025-05/seg ┆ ogger.blogspot ┆ 24109.html     ┆                │\n",
       "│              ┆              ┆ …               ┆ .c…            ┆                ┆                │\n",
       "│ com          ┆ 404          ┆ crawl-data/CC-M ┆ https://cgulbl ┆ /2024/09/wiley ┆ blogspot.com   │\n",
       "│              ┆              ┆ AIN-2025-05/seg ┆ ogger.blogspot ┆ -digital-textb ┆                │\n",
       "│              ┆              ┆ …               ┆ .c…            ┆ oo…            ┆                │\n",
       "│ com          ┆ 302          ┆ crawl-data/CC-M ┆ http://cgxdave ┆ /2010/10/chad- ┆ blogspot.com   │\n",
       "│              ┆              ┆ AIN-2025-05/seg ┆ .blogspot.com/ ┆ et-felix.html  ┆                │\n",
       "│              ┆              ┆ …               ┆ 20…            ┆                ┆                │\n",
       "└──────────────┴──────────────┴─────────────────┴────────────────┴────────────────┴────────────────┘"
      ],
      "text/html": [
       "<div><style>\n",
       ".dataframe > thead > tr,\n",
       ".dataframe > tbody > tr {\n",
       "  text-align: right;\n",
       "  white-space: pre-wrap;\n",
       "}\n",
       "</style>\n",
       "<small>shape: (25, 6)</small><table border=\"1\" class=\"dataframe\"><thead><tr><th>url_host_tld</th><th>fetch_status</th><th>warc_filename</th><th>url</th><th>url_path</th><th>url_host_registered_domain</th></tr><tr><td>str</td><td>i16</td><td>str</td><td>str</td><td>str</td><td>str</td></tr></thead><tbody><tr><td>&quot;com&quot;</td><td>301</td><td>&quot;crawl-data/CC-MAIN-2025-05/seg…</td><td>&quot;http://cgallan.blogspot.com/20…</td><td>&quot;/2008/09/ever-catch-yourself-s…</td><td>&quot;blogspot.com&quot;</td></tr><tr><td>&quot;com&quot;</td><td>301</td><td>&quot;crawl-data/CC-MAIN-2025-05/seg…</td><td>&quot;http://cgallan.blogspot.com/20…</td><td>&quot;/2016/06/unfinished-tales-and-…</td><td>&quot;blogspot.com&quot;</td></tr><tr><td>&quot;com&quot;</td><td>301</td><td>&quot;crawl-data/CC-MAIN-2025-05/seg…</td><td>&quot;http://cgallan.blogspot.com/20…</td><td>&quot;/2017/02/an-even-better-way-to…</td><td>&quot;blogspot.com&quot;</td></tr><tr><td>&quot;com&quot;</td><td>404</td><td>&quot;crawl-data/CC-MAIN-2025-05/seg…</td><td>&quot;https://cgallan.blogspot.com/2…</td><td>&quot;/2017/02/an-even-better-way-to…</td><td>&quot;blogspot.com&quot;</td></tr><tr><td>&quot;com&quot;</td><td>404</td><td>&quot;crawl-data/CC-MAIN-2025-05/seg…</td><td>&quot;https://cgindia.blogspot.com/&quot;</td><td>&quot;/&quot;</td><td>&quot;blogspot.com&quot;</td></tr><tr><td>&hellip;</td><td>&hellip;</td><td>&hellip;</td><td>&hellip;</td><td>&hellip;</td><td>&hellip;</td></tr><tr><td>&quot;com&quot;</td><td>404</td><td>&quot;crawl-data/CC-MAIN-2025-05/seg…</td><td>&quot;https://cgtcecrops.blogspot.co…</td><td>&quot;/&quot;</td><td>&quot;blogspot.com&quot;</td></tr><tr><td>&quot;com&quot;</td><td>404</td><td>&quot;crawl-data/CC-MAIN-2025-05/seg…</td><td>&quot;https://cgulblogger.blogspot.c…</td><td>&quot;/2024/09/113-welcome-to-databa…</td><td>&quot;blogspot.com&quot;</td></tr><tr><td>&quot;com&quot;</td><td>404</td><td>&quot;crawl-data/CC-MAIN-2025-05/seg…</td><td>&quot;https://cgulblogger.blogspot.c…</td><td>&quot;/2024/09/ace2024109.html&quot;</td><td>&quot;blogspot.com&quot;</td></tr><tr><td>&quot;com&quot;</td><td>404</td><td>&quot;crawl-data/CC-MAIN-2025-05/seg…</td><td>&quot;https://cgulblogger.blogspot.c…</td><td>&quot;/2024/09/wiley-digital-textboo…</td><td>&quot;blogspot.com&quot;</td></tr><tr><td>&quot;com&quot;</td><td>302</td><td>&quot;crawl-data/CC-MAIN-2025-05/seg…</td><td>&quot;http://cgxdave.blogspot.com/20…</td><td>&quot;/2010/10/chad-et-felix.html&quot;</td><td>&quot;blogspot.com&quot;</td></tr></tbody></table></div>"
      ]
     },
     "execution_count": 43,
     "metadata": {},
     "output_type": "execute_result"
    }
   ],
   "execution_count": 43
  },
  {
   "metadata": {
    "ExecuteTime": {
     "end_time": "2025-02-21T14:05:37.548424Z",
     "start_time": "2025-02-21T14:05:37.533988Z"
    }
   },
   "cell_type": "code",
   "source": "table.schema",
   "outputs": [
    {
     "data": {
      "text/plain": [
       "Schema([('url_surtkey', String),\n",
       "        ('url', String),\n",
       "        ('url_host_name', String),\n",
       "        ('url_host_tld', String),\n",
       "        ('url_host_2nd_last_part', String),\n",
       "        ('url_host_3rd_last_part', String),\n",
       "        ('url_host_4th_last_part', String),\n",
       "        ('url_host_5th_last_part', String),\n",
       "        ('url_host_registry_suffix', String),\n",
       "        ('url_host_registered_domain', String),\n",
       "        ('url_host_private_suffix', String),\n",
       "        ('url_host_private_domain', String),\n",
       "        ('url_host_name_reversed', String),\n",
       "        ('url_protocol', String),\n",
       "        ('url_port', Int32),\n",
       "        ('url_path', String),\n",
       "        ('url_query', String),\n",
       "        ('fetch_time', Datetime(time_unit='ms', time_zone='UTC')),\n",
       "        ('fetch_status', Int16),\n",
       "        ('fetch_redirect', String),\n",
       "        ('content_digest', String),\n",
       "        ('content_mime_type', String),\n",
       "        ('content_mime_detected', String),\n",
       "        ('content_charset', String),\n",
       "        ('content_languages', String),\n",
       "        ('content_truncated', String),\n",
       "        ('warc_filename', String),\n",
       "        ('warc_record_offset', Int32),\n",
       "        ('warc_record_length', Int32),\n",
       "        ('warc_segment', String)])"
      ]
     },
     "execution_count": 44,
     "metadata": {},
     "output_type": "execute_result"
    }
   ],
   "execution_count": 44
  }
 ],
 "metadata": {
  "kernelspec": {
   "display_name": "crawler-public",
   "language": "python",
   "name": "crawler-public"
  },
  "language_info": {
   "codemirror_mode": {
    "name": "ipython",
    "version": 3
   },
   "file_extension": ".py",
   "mimetype": "text/x-python",
   "name": "python",
   "nbconvert_exporter": "python",
   "pygments_lexer": "ipython3",
   "version": "3.9.15"
  },
  "orig_nbformat": 4,
  "vscode": {
   "interpreter": {
    "hash": "635814f4214ea1b11d7625ceb0c3109b382d1a963efd9612002e16099ce537c3"
   }
  }
 },
 "nbformat": 4,
 "nbformat_minor": 2
}
