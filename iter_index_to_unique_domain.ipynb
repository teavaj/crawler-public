{
 "cells": [
  {
   "cell_type": "code",
   "execution_count": 1,
   "metadata": {},
   "outputs": [],
   "source": [
    "import pandas as pd\n",
    "from glob import glob\n"
   ]
  },
  {
   "cell_type": "code",
   "execution_count": 2,
   "metadata": {},
   "outputs": [
    {
     "name": "stdout",
     "output_type": "stream",
     "text": [
      "['li' 'ch']\n",
      "(369109,)\n",
      "['imdesign.ch', 'newsbern.ch', 'newsbot.ch', 'newsbooster.ch', 'news-omct.ch', 'news-laurentferrier.ch', 'news-bonflam.ch', 'news.ch', 'newsaktuell.ch', 'news-zuerich.ch', 'news-radin.ch', 'newserv.ch', 'newscam.ch', 'newscafebar.ch', 'newsha.ch', 'newsgo.ch', 'newsfuchs.ch', 'newsfox.ch', 'newsbyte.ch', 'newslang.ch']\n"
     ]
    }
   ],
   "source": [
    "\n",
    "csv_parts = glob('part-00*.csv')\n",
    "df = pd.concat(map(pd.read_csv, csv_parts))\n",
    "print(df.url_host_tld.unique())\n",
    "df.sort_values(by=['url_host_tld'], axis=0, inplace=True, ascending=True )\n",
    "# print(df.head(5))\n",
    "domains = df.url_host_registered_domain\n",
    "domains.drop_duplicates(inplace=True, keep='first')\n",
    "print(domains.shape)\n",
    "domains_lst = domains.tolist()\n",
    "\n",
    "print(domains_lst[:20])"
   ]
  },
  {
   "cell_type": "code",
   "execution_count": 3,
   "metadata": {},
   "outputs": [],
   "source": [
    "domains.to_csv('ch_li_domains_3.csv')"
   ]
  },
  {
   "cell_type": "code",
   "execution_count": 14,
   "metadata": {},
   "outputs": [],
   "source": [
    "chli_parts = glob('ch_li_domains_3*.csv')\n",
    "chli_df = pd.concat(map(pd.read_csv, chli_parts))"
   ]
  },
  {
   "cell_type": "code",
   "execution_count": 15,
   "metadata": {},
   "outputs": [
    {
     "data": {
      "text/plain": [
       "Index(['Unnamed: 0', 'url_host_registered_domain'], dtype='object')"
      ]
     },
     "execution_count": 15,
     "metadata": {},
     "output_type": "execute_result"
    }
   ],
   "source": [
    "chli_df.columns"
   ]
  },
  {
   "cell_type": "code",
   "execution_count": 16,
   "metadata": {},
   "outputs": [
    {
     "data": {
      "text/html": [
       "<div>\n",
       "<style scoped>\n",
       "    .dataframe tbody tr th:only-of-type {\n",
       "        vertical-align: middle;\n",
       "    }\n",
       "\n",
       "    .dataframe tbody tr th {\n",
       "        vertical-align: top;\n",
       "    }\n",
       "\n",
       "    .dataframe thead th {\n",
       "        text-align: right;\n",
       "    }\n",
       "</style>\n",
       "<table border=\"1\" class=\"dataframe\">\n",
       "  <thead>\n",
       "    <tr style=\"text-align: right;\">\n",
       "      <th></th>\n",
       "      <th>Unnamed: 0</th>\n",
       "      <th>url_host_registered_domain</th>\n",
       "    </tr>\n",
       "  </thead>\n",
       "  <tbody>\n",
       "    <tr>\n",
       "      <th>0</th>\n",
       "      <td>4975022</td>\n",
       "      <td>imdesign.ch</td>\n",
       "    </tr>\n",
       "    <tr>\n",
       "      <th>1</th>\n",
       "      <td>8428642</td>\n",
       "      <td>newsbern.ch</td>\n",
       "    </tr>\n",
       "    <tr>\n",
       "      <th>2</th>\n",
       "      <td>8428958</td>\n",
       "      <td>newsbot.ch</td>\n",
       "    </tr>\n",
       "    <tr>\n",
       "      <th>3</th>\n",
       "      <td>8428822</td>\n",
       "      <td>newsbooster.ch</td>\n",
       "    </tr>\n",
       "    <tr>\n",
       "      <th>4</th>\n",
       "      <td>8428010</td>\n",
       "      <td>news-omct.ch</td>\n",
       "    </tr>\n",
       "  </tbody>\n",
       "</table>\n",
       "</div>"
      ],
      "text/plain": [
       "   Unnamed: 0 url_host_registered_domain\n",
       "0     4975022                imdesign.ch\n",
       "1     8428642                newsbern.ch\n",
       "2     8428958                 newsbot.ch\n",
       "3     8428822             newsbooster.ch\n",
       "4     8428010               news-omct.ch"
      ]
     },
     "execution_count": 16,
     "metadata": {},
     "output_type": "execute_result"
    }
   ],
   "source": [
    "new_df = chli_df.drop_duplicates('url_host_registered_domain').copy()\n",
    "# new_df.url_host_registered_domain = 'https://www.' + new_df.url_host_registered_domain + '/'\n",
    "new_df.head()"
   ]
  },
  {
   "cell_type": "code",
   "execution_count": 17,
   "metadata": {},
   "outputs": [],
   "source": [
    "old_df_list = glob(\"ch_li_domains_2*\") + ['ch_li_domains_1.csv']\n"
   ]
  },
  {
   "cell_type": "code",
   "execution_count": 18,
   "metadata": {},
   "outputs": [
    {
     "data": {
      "text/html": [
       "<div>\n",
       "<style scoped>\n",
       "    .dataframe tbody tr th:only-of-type {\n",
       "        vertical-align: middle;\n",
       "    }\n",
       "\n",
       "    .dataframe tbody tr th {\n",
       "        vertical-align: top;\n",
       "    }\n",
       "\n",
       "    .dataframe thead th {\n",
       "        text-align: right;\n",
       "    }\n",
       "</style>\n",
       "<table border=\"1\" class=\"dataframe\">\n",
       "  <thead>\n",
       "    <tr style=\"text-align: right;\">\n",
       "      <th></th>\n",
       "      <th>Unnamed: 0</th>\n",
       "      <th>url_host_registered_domain</th>\n",
       "      <th>0</th>\n",
       "    </tr>\n",
       "  </thead>\n",
       "  <tbody>\n",
       "    <tr>\n",
       "      <th>0</th>\n",
       "      <td>27232.0</td>\n",
       "      <td>la-pergola-winti.ch</td>\n",
       "      <td>NaN</td>\n",
       "    </tr>\n",
       "    <tr>\n",
       "      <th>1</th>\n",
       "      <td>492517.0</td>\n",
       "      <td>photoload.ch</td>\n",
       "      <td>NaN</td>\n",
       "    </tr>\n",
       "    <tr>\n",
       "      <th>2</th>\n",
       "      <td>492531.0</td>\n",
       "      <td>photolocation.ch</td>\n",
       "      <td>NaN</td>\n",
       "    </tr>\n",
       "    <tr>\n",
       "      <th>3</th>\n",
       "      <td>492496.0</td>\n",
       "      <td>photoisraelian.ch</td>\n",
       "      <td>NaN</td>\n",
       "    </tr>\n",
       "    <tr>\n",
       "      <th>4</th>\n",
       "      <td>492497.0</td>\n",
       "      <td>photojournalistes.ch</td>\n",
       "      <td>NaN</td>\n",
       "    </tr>\n",
       "  </tbody>\n",
       "</table>\n",
       "</div>"
      ],
      "text/plain": [
       "   Unnamed: 0 url_host_registered_domain    0\n",
       "0     27232.0        la-pergola-winti.ch  NaN\n",
       "1    492517.0               photoload.ch  NaN\n",
       "2    492531.0           photolocation.ch  NaN\n",
       "3    492496.0          photoisraelian.ch  NaN\n",
       "4    492497.0       photojournalistes.ch  NaN"
      ]
     },
     "execution_count": 18,
     "metadata": {},
     "output_type": "execute_result"
    }
   ],
   "source": [
    "old_df =  pd.concat(map(pd.read_csv, old_df_list))\n",
    "old_df.shape\n",
    "# old_df.columns = ['url_host_registered_domain']\n",
    "old_df.head()\n"
   ]
  },
  {
   "cell_type": "code",
   "execution_count": 19,
   "metadata": {},
   "outputs": [],
   "source": [
    "new_domains = new_df.merge(old_df, on=['url_host_registered_domain'], how='left', indicator=True)"
   ]
  },
  {
   "cell_type": "code",
   "execution_count": 20,
   "metadata": {},
   "outputs": [],
   "source": [
    "new_domains = new_domains.loc[new_domains._merge == 'left_only']"
   ]
  },
  {
   "cell_type": "code",
   "execution_count": 21,
   "metadata": {},
   "outputs": [],
   "source": [
    "new_domains.url_host_registered_domain.to_csv('ch_li_domains_3.csv', index=False)"
   ]
  },
  {
   "cell_type": "code",
   "execution_count": null,
   "metadata": {},
   "outputs": [],
   "source": []
  }
 ],
 "metadata": {
  "kernelspec": {
   "display_name": "Python 3.9.12 ('base')",
   "language": "python",
   "name": "python3"
  },
  "language_info": {
   "codemirror_mode": {
    "name": "ipython",
    "version": 3
   },
   "file_extension": ".py",
   "mimetype": "text/x-python",
   "name": "python",
   "nbconvert_exporter": "python",
   "pygments_lexer": "ipython3",
   "version": "3.9.15"
  },
  "orig_nbformat": 4,
  "vscode": {
   "interpreter": {
    "hash": "635814f4214ea1b11d7625ceb0c3109b382d1a963efd9612002e16099ce537c3"
   }
  }
 },
 "nbformat": 4,
 "nbformat_minor": 2
}
