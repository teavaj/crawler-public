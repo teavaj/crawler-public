{
 "cells": [
  {
   "cell_type": "code",
   "metadata": {
    "ExecuteTime": {
     "end_time": "2025-02-21T16:08:08.104240Z",
     "start_time": "2025-02-21T16:08:07.574232Z"
    }
   },
   "source": [
    "from glob import glob\n",
    "\n",
    "import pandas as pd\n",
    "import polars as pl\n"
   ],
   "outputs": [],
   "execution_count": 1
  },
  {
   "metadata": {
    "ExecuteTime": {
     "end_time": "2025-02-21T16:08:09.791243Z",
     "start_time": "2025-02-21T16:08:08.107660Z"
    }
   },
   "cell_type": "code",
   "source": [
    "csv_parts = glob('data/part-00*.parquet')\n",
    "df = pl.concat(map(pl.read_parquet, csv_parts))"
   ],
   "outputs": [],
   "execution_count": 2
  },
  {
   "metadata": {
    "ExecuteTime": {
     "end_time": "2025-02-21T16:08:10.150359Z",
     "start_time": "2025-02-21T16:08:09.960540Z"
    }
   },
   "cell_type": "code",
   "source": "df = df.filter(pl.col('url_host_tld') != \"\")",
   "outputs": [],
   "execution_count": 3
  },
  {
   "metadata": {
    "ExecuteTime": {
     "end_time": "2025-02-21T16:08:10.917209Z",
     "start_time": "2025-02-21T16:08:10.179245Z"
    }
   },
   "cell_type": "code",
   "source": [
    "(df.unique(pl.col('url_host_tld'), keep='first', maintain_order=True)\n",
    " .select(pl.col('url_host_tld'))\n",
    " )"
   ],
   "outputs": [
    {
     "data": {
      "text/plain": [
       "shape: (1, 1)\n",
       "┌──────────────┐\n",
       "│ url_host_tld │\n",
       "│ ---          │\n",
       "│ str          │\n",
       "╞══════════════╡\n",
       "│ com          │\n",
       "└──────────────┘"
      ],
      "text/html": [
       "<div><style>\n",
       ".dataframe > thead > tr,\n",
       ".dataframe > tbody > tr {\n",
       "  text-align: right;\n",
       "  white-space: pre-wrap;\n",
       "}\n",
       "</style>\n",
       "<small>shape: (1, 1)</small><table border=\"1\" class=\"dataframe\"><thead><tr><th>url_host_tld</th></tr><tr><td>str</td></tr></thead><tbody><tr><td>&quot;com&quot;</td></tr></tbody></table></div>"
      ]
     },
     "execution_count": 4,
     "metadata": {},
     "output_type": "execute_result"
    }
   ],
   "execution_count": 4
  },
  {
   "metadata": {
    "ExecuteTime": {
     "end_time": "2025-02-21T16:08:11.876873Z",
     "start_time": "2025-02-21T16:08:10.971556Z"
    }
   },
   "cell_type": "code",
   "source": [
    "df_prepared=df.unique(pl.col('url_host_registered_domain'), keep='first', maintain_order=True)\n",
    "df_prepared.select(pl.col('url_host_registered_domain')).head(50)"
   ],
   "outputs": [
    {
     "data": {
      "text/plain": [
       "shape: (50, 1)\n",
       "┌────────────────────────────┐\n",
       "│ url_host_registered_domain │\n",
       "│ ---                        │\n",
       "│ str                        │\n",
       "╞════════════════════════════╡\n",
       "│ ldkeyfinder.com            │\n",
       "│ ldkh.com                   │\n",
       "│ ldkhr.com                  │\n",
       "│ ldkid.com                  │\n",
       "│ ldkirklin.com              │\n",
       "│ …                          │\n",
       "│ ldlc-pro.com               │\n",
       "│ ldlcarena.com              │\n",
       "│ ldlcasvelfeminin.com       │\n",
       "│ ldlci.com                  │\n",
       "│ ldlcible.com               │\n",
       "└────────────────────────────┘"
      ],
      "text/html": [
       "<div><style>\n",
       ".dataframe > thead > tr,\n",
       ".dataframe > tbody > tr {\n",
       "  text-align: right;\n",
       "  white-space: pre-wrap;\n",
       "}\n",
       "</style>\n",
       "<small>shape: (50, 1)</small><table border=\"1\" class=\"dataframe\"><thead><tr><th>url_host_registered_domain</th></tr><tr><td>str</td></tr></thead><tbody><tr><td>&quot;ldkeyfinder.com&quot;</td></tr><tr><td>&quot;ldkh.com&quot;</td></tr><tr><td>&quot;ldkhr.com&quot;</td></tr><tr><td>&quot;ldkid.com&quot;</td></tr><tr><td>&quot;ldkirklin.com&quot;</td></tr><tr><td>&hellip;</td></tr><tr><td>&quot;ldlc-pro.com&quot;</td></tr><tr><td>&quot;ldlcarena.com&quot;</td></tr><tr><td>&quot;ldlcasvelfeminin.com&quot;</td></tr><tr><td>&quot;ldlci.com&quot;</td></tr><tr><td>&quot;ldlcible.com&quot;</td></tr></tbody></table></div>"
      ]
     },
     "execution_count": 5,
     "metadata": {},
     "output_type": "execute_result"
    }
   ],
   "execution_count": 5
  },
  {
   "metadata": {
    "ExecuteTime": {
     "end_time": "2025-02-21T16:08:11.920510Z",
     "start_time": "2025-02-21T16:08:11.912515Z"
    }
   },
   "cell_type": "code",
   "source": "df_prepared.select(pl.col('url_host_registered_domain').str.starts_with('www.')).filter(pl.col('url_host_registered_domain') == True)",
   "outputs": [
    {
     "data": {
      "text/plain": [
       "shape: (0, 1)\n",
       "┌────────────────────────────┐\n",
       "│ url_host_registered_domain │\n",
       "│ ---                        │\n",
       "│ bool                       │\n",
       "╞════════════════════════════╡\n",
       "└────────────────────────────┘"
      ],
      "text/html": [
       "<div><style>\n",
       ".dataframe > thead > tr,\n",
       ".dataframe > tbody > tr {\n",
       "  text-align: right;\n",
       "  white-space: pre-wrap;\n",
       "}\n",
       "</style>\n",
       "<small>shape: (0, 1)</small><table border=\"1\" class=\"dataframe\"><thead><tr><th>url_host_registered_domain</th></tr><tr><td>bool</td></tr></thead><tbody></tbody></table></div>"
      ]
     },
     "execution_count": 6,
     "metadata": {},
     "output_type": "execute_result"
    }
   ],
   "execution_count": 6
  },
  {
   "metadata": {
    "ExecuteTime": {
     "end_time": "2025-02-21T16:08:12.020475Z",
     "start_time": "2025-02-21T16:08:12.016804Z"
    }
   },
   "cell_type": "code",
   "source": "df_prepared.select(pl.col('url_host_registered_domain').str.starts_with('http')).filter(pl.col('url_host_registered_domain') == True)",
   "outputs": [
    {
     "data": {
      "text/plain": [
       "shape: (0, 1)\n",
       "┌────────────────────────────┐\n",
       "│ url_host_registered_domain │\n",
       "│ ---                        │\n",
       "│ bool                       │\n",
       "╞════════════════════════════╡\n",
       "└────────────────────────────┘"
      ],
      "text/html": [
       "<div><style>\n",
       ".dataframe > thead > tr,\n",
       ".dataframe > tbody > tr {\n",
       "  text-align: right;\n",
       "  white-space: pre-wrap;\n",
       "}\n",
       "</style>\n",
       "<small>shape: (0, 1)</small><table border=\"1\" class=\"dataframe\"><thead><tr><th>url_host_registered_domain</th></tr><tr><td>bool</td></tr></thead><tbody></tbody></table></div>"
      ]
     },
     "execution_count": 7,
     "metadata": {},
     "output_type": "execute_result"
    }
   ],
   "execution_count": 7
  },
  {
   "metadata": {
    "ExecuteTime": {
     "end_time": "2025-02-21T16:08:12.127090Z",
     "start_time": "2025-02-21T16:08:12.117374Z"
    }
   },
   "cell_type": "code",
   "source": [
    "df_prepared=df_prepared.with_columns(\n",
    " (\"https://\"+pl.col('url_host_registered_domain')).alias('url_host_registered_domain')\n",
    ")"
   ],
   "outputs": [],
   "execution_count": 8
  },
  {
   "cell_type": "code",
   "metadata": {
    "ExecuteTime": {
     "end_time": "2025-02-21T16:08:12.497230Z",
     "start_time": "2025-02-21T16:08:12.199987Z"
    }
   },
   "source": "df_prepared.write_csv('data/com_domains.csv')",
   "outputs": [],
   "execution_count": 9
  },
  {
   "metadata": {
    "ExecuteTime": {
     "end_time": "2025-02-21T16:08:12.571001Z",
     "start_time": "2025-02-21T16:08:12.569744Z"
    }
   },
   "cell_type": "code",
   "source": "",
   "outputs": [],
   "execution_count": null
  }
 ],
 "metadata": {
  "kernelspec": {
   "display_name": "crawler-public",
   "language": "python",
   "name": "crawler-public"
  },
  "language_info": {
   "codemirror_mode": {
    "name": "ipython",
    "version": 3
   },
   "file_extension": ".py",
   "mimetype": "text/x-python",
   "name": "python",
   "nbconvert_exporter": "python",
   "pygments_lexer": "ipython3",
   "version": "3.9.15"
  },
  "orig_nbformat": 4,
  "vscode": {
   "interpreter": {
    "hash": "635814f4214ea1b11d7625ceb0c3109b382d1a963efd9612002e16099ce537c3"
   }
  }
 },
 "nbformat": 4,
 "nbformat_minor": 2
}
